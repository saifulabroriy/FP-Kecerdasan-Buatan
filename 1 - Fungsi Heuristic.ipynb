{
 "cells": [
  {
   "cell_type": "code",
   "execution_count": null,
   "id": "dfc77c26",
   "metadata": {},
   "outputs": [],
   "source": []
  }
 ],
 "metadata": {
  "interpreter": {
   "hash": "f942bd98faa300fc7578274a659425881f1887d9c61941f7b7b8701bdb2de32e"
  },
  "kernelspec": {
   "display_name": "fp_kecerdasan_buatan",
   "language": "python",
   "name": "python3"
  },
  "language_info": {
   "codemirror_mode": {
    "name": "ipython",
    "version": 3
   },
   "file_extension": ".py",
   "mimetype": "text/x-python",
   "name": "python",
   "nbconvert_exporter": "python",
   "pygments_lexer": "ipython3",
   "version": "3.9.7"
  }
 },
 "nbformat": 4,
 "nbformat_minor": 5
}
